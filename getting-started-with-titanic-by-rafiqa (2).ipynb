{
 "cells": [
  {
   "cell_type": "code",
   "execution_count": 1,
   "id": "db5b8165",
   "metadata": {
    "_cell_guid": "b1076dfc-b9ad-4769-8c92-a6c4dae69d19",
    "_uuid": "8f2839f25d086af736a60e9eeb907d3b93b6e0e5",
    "execution": {
     "iopub.execute_input": "2025-04-20T02:21:31.569255Z",
     "iopub.status.busy": "2025-04-20T02:21:31.568880Z",
     "iopub.status.idle": "2025-04-20T02:21:34.988630Z",
     "shell.execute_reply": "2025-04-20T02:21:34.987354Z"
    },
    "papermill": {
     "duration": 3.428421,
     "end_time": "2025-04-20T02:21:34.990675",
     "exception": false,
     "start_time": "2025-04-20T02:21:31.562254",
     "status": "completed"
    },
    "tags": []
   },
   "outputs": [
    {
     "name": "stdout",
     "output_type": "stream",
     "text": [
      "/kaggle/input/titanic/train.csv\n",
      "/kaggle/input/titanic/test.csv\n",
      "/kaggle/input/titanic/gender_submission.csv\n"
     ]
    }
   ],
   "source": [
    "# This Python 3 environment comes with many helpful analytics libraries installed\n",
    "# It is defined by the kaggle/python Docker image: https://github.com/kaggle/docker-python\n",
    "\n",
    "\n",
    "import pandas as pd\n",
    "import numpy as np\n",
    "import matplotlib.pyplot as plt\n",
    "import seaborn as sns\n",
    "import re\n",
    "from sklearn.model_selection import train_test_split\n",
    "from sklearn.ensemble import RandomForestClassifier\n",
    "from sklearn.metrics import accuracy_score, confusion_matrix\n",
    "from sklearn.preprocessing import LabelEncoder\n",
    "\n",
    "# Input data files are available in the read-only \"../input/\" directory\n",
    "# For example, running this (by clicking run or pressing Shift+Enter) will list all files under the input directory\n",
    "\n",
    "import os\n",
    "for dirname, _, filenames in os.walk('/kaggle/input'):\n",
    "    for filename in filenames:\n",
    "        print(os.path.join(dirname, filename))\n",
    "        \n",
    "    import warnings\n",
    "warnings.filterwarnings(\"ignore\", category=RuntimeWarning)\n"
   ]
  },
  {
   "cell_type": "code",
   "execution_count": 2,
   "id": "71b5a2bc",
   "metadata": {
    "execution": {
     "iopub.execute_input": "2025-04-20T02:21:35.001951Z",
     "iopub.status.busy": "2025-04-20T02:21:35.001431Z",
     "iopub.status.idle": "2025-04-20T02:21:35.047460Z",
     "shell.execute_reply": "2025-04-20T02:21:35.046159Z"
    },
    "papermill": {
     "duration": 0.05364,
     "end_time": "2025-04-20T02:21:35.049375",
     "exception": false,
     "start_time": "2025-04-20T02:21:34.995735",
     "status": "completed"
    },
    "tags": []
   },
   "outputs": [
    {
     "name": "stdout",
     "output_type": "stream",
     "text": [
      "Training Data:\n",
      "   PassengerId  Survived  Pclass  \\\n",
      "0            1         0       3   \n",
      "1            2         1       1   \n",
      "2            3         1       3   \n",
      "3            4         1       1   \n",
      "4            5         0       3   \n",
      "\n",
      "                                                Name     Sex   Age  SibSp  \\\n",
      "0                            Braund, Mr. Owen Harris    male  22.0      1   \n",
      "1  Cumings, Mrs. John Bradley (Florence Briggs Th...  female  38.0      1   \n",
      "2                             Heikkinen, Miss. Laina  female  26.0      0   \n",
      "3       Futrelle, Mrs. Jacques Heath (Lily May Peel)  female  35.0      1   \n",
      "4                           Allen, Mr. William Henry    male  35.0      0   \n",
      "\n",
      "   Parch            Ticket     Fare Cabin Embarked  \n",
      "0      0         A/5 21171   7.2500   NaN        S  \n",
      "1      0          PC 17599  71.2833   C85        C  \n",
      "2      0  STON/O2. 3101282   7.9250   NaN        S  \n",
      "3      0            113803  53.1000  C123        S  \n",
      "4      0            373450   8.0500   NaN        S  \n",
      "\n",
      "Test Data:\n",
      "   PassengerId  Pclass                                          Name     Sex  \\\n",
      "0          892       3                              Kelly, Mr. James    male   \n",
      "1          893       3              Wilkes, Mrs. James (Ellen Needs)  female   \n",
      "2          894       2                     Myles, Mr. Thomas Francis    male   \n",
      "3          895       3                              Wirz, Mr. Albert    male   \n",
      "4          896       3  Hirvonen, Mrs. Alexander (Helga E Lindqvist)  female   \n",
      "\n",
      "    Age  SibSp  Parch   Ticket     Fare Cabin Embarked  \n",
      "0  34.5      0      0   330911   7.8292   NaN        Q  \n",
      "1  47.0      1      0   363272   7.0000   NaN        S  \n",
      "2  62.0      0      0   240276   9.6875   NaN        Q  \n",
      "3  27.0      0      0   315154   8.6625   NaN        S  \n",
      "4  22.0      1      1  3101298  12.2875   NaN        S  \n"
     ]
    }
   ],
   "source": [
    "\n",
    "train_df = pd.read_csv(\"/kaggle/input/titanic/train.csv\")\n",
    "test_df = pd.read_csv(\"/kaggle/input/titanic/test.csv\")\n",
    "\n",
    "# Save PassengerId from test set for final submission\n",
    "test_ids = test_df['PassengerId']\n",
    "\n",
    "# Display the first few rows of each DataFrame\n",
    "print(\"Training Data:\")\n",
    "print(train_df.head())\n",
    "\n",
    "print(\"\\nTest Data:\")\n",
    "print(test_df.head())"
   ]
  },
  {
   "cell_type": "code",
   "execution_count": 3,
   "id": "54fdb5a2",
   "metadata": {
    "execution": {
     "iopub.execute_input": "2025-04-20T02:21:35.060125Z",
     "iopub.status.busy": "2025-04-20T02:21:35.059737Z",
     "iopub.status.idle": "2025-04-20T02:21:35.080641Z",
     "shell.execute_reply": "2025-04-20T02:21:35.079546Z"
    },
    "papermill": {
     "duration": 0.028118,
     "end_time": "2025-04-20T02:21:35.082356",
     "exception": false,
     "start_time": "2025-04-20T02:21:35.054238",
     "status": "completed"
    },
    "tags": []
   },
   "outputs": [
    {
     "name": "stdout",
     "output_type": "stream",
     "text": [
      "  Cabin  Deck\n",
      "0   NaN     8\n",
      "1   C85     2\n",
      "2   NaN     8\n",
      "3  C123     2\n",
      "4   NaN     8\n"
     ]
    }
   ],
   "source": [
    " #Extract deck letter from Cabin\n",
    "import pandas as pd\n",
    "\n",
    "# Pull the first character of the Cabin string, fill NaNs with 'U' (Unknown)\n",
    "train_df['Deck'] = train_df['Cabin'].str[0].fillna('U')\n",
    "test_df['Deck']  = test_df['Cabin'].str[0].fillna('U')\n",
    "\n",
    "# Encode deck letters to numbers\n",
    "from sklearn.preprocessing import LabelEncoder\n",
    "deck_le = LabelEncoder()\n",
    "\n",
    "# Fit on combined decks so both train & test share the same mapping\n",
    "deck_le.fit(pd.concat([train_df['Deck'], test_df['Deck']]))\n",
    "\n",
    "train_df['Deck'] = deck_le.transform(train_df['Deck'])\n",
    "test_df['Deck']  = deck_le.transform(test_df['Deck'])\n",
    "\n",
    "# Quick check\n",
    "print(train_df[['Cabin', 'Deck']].head())"
   ]
  },
  {
   "cell_type": "code",
   "execution_count": 4,
   "id": "788f38c9",
   "metadata": {
    "execution": {
     "iopub.execute_input": "2025-04-20T02:21:35.093432Z",
     "iopub.status.busy": "2025-04-20T02:21:35.093033Z",
     "iopub.status.idle": "2025-04-20T02:21:35.116026Z",
     "shell.execute_reply": "2025-04-20T02:21:35.114665Z"
    },
    "papermill": {
     "duration": 0.030627,
     "end_time": "2025-04-20T02:21:35.117780",
     "exception": false,
     "start_time": "2025-04-20T02:21:35.087153",
     "status": "completed"
    },
    "tags": []
   },
   "outputs": [
    {
     "name": "stdout",
     "output_type": "stream",
     "text": [
      "Missing values in training data:\n",
      "PassengerId      0\n",
      "Survived         0\n",
      "Pclass           0\n",
      "Name             0\n",
      "Sex              0\n",
      "Age            177\n",
      "SibSp            0\n",
      "Parch            0\n",
      "Ticket           0\n",
      "Fare             0\n",
      "Cabin          687\n",
      "Embarked         2\n",
      "Deck             0\n",
      "dtype: int64\n",
      "\n",
      "Missing values in test data:\n",
      "PassengerId      0\n",
      "Pclass           0\n",
      "Name             0\n",
      "Sex              0\n",
      "Age             86\n",
      "SibSp            0\n",
      "Parch            0\n",
      "Ticket           0\n",
      "Fare             1\n",
      "Cabin          327\n",
      "Embarked         0\n",
      "Deck             0\n",
      "dtype: int64\n",
      "\n",
      "Missing values after handling:\n",
      "PassengerId    0\n",
      "Survived       0\n",
      "Pclass         0\n",
      "Name           0\n",
      "Sex            0\n",
      "Age            0\n",
      "SibSp          0\n",
      "Parch          0\n",
      "Ticket         0\n",
      "Fare           0\n",
      "Embarked       0\n",
      "Deck           0\n",
      "dtype: int64\n",
      "PassengerId    0\n",
      "Pclass         0\n",
      "Name           0\n",
      "Sex            0\n",
      "Age            0\n",
      "SibSp          0\n",
      "Parch          0\n",
      "Ticket         0\n",
      "Fare           0\n",
      "Embarked       0\n",
      "Deck           0\n",
      "dtype: int64\n"
     ]
    }
   ],
   "source": [
    "# Check for missing values\n",
    "print(\"Missing values in training data:\")\n",
    "print(train_df.isnull().sum())\n",
    "print(\"\\nMissing values in test data:\")\n",
    "print(test_df.isnull().sum())\n",
    "\n",
    "# Fill missing 'Age' with the median value in both datasets\n",
    "train_df['Age'] = train_df['Age'].fillna(train_df['Age'].median())\n",
    "test_df['Age'] = test_df['Age'].fillna(test_df['Age'].median())\n",
    "\n",
    "# Fill missing 'Embarked' in train with the most frequent value (mode)\n",
    "train_df['Embarked'] = train_df['Embarked'].fillna(train_df['Embarked'].mode()[0])\n",
    "\n",
    "# Fill missing 'Fare' in test with the median value\n",
    "test_df['Fare'] = test_df['Fare'].fillna(test_df['Fare'].median())\n",
    "\n",
    "# Drop the 'Cabin' column from both datasets (use errors='ignore' in case it's already missing)\n",
    "train_df.drop(columns=['Cabin'], inplace=True, errors='ignore')\n",
    "test_df.drop(columns=['Cabin'], inplace=True, errors='ignore')\n",
    "\n",
    "print(\"\\nMissing values after handling:\")\n",
    "print(train_df.isnull().sum())\n",
    "print(test_df.isnull().sum())"
   ]
  },
  {
   "cell_type": "code",
   "execution_count": 5,
   "id": "f2ccc9de",
   "metadata": {
    "execution": {
     "iopub.execute_input": "2025-04-20T02:21:35.129103Z",
     "iopub.status.busy": "2025-04-20T02:21:35.128741Z",
     "iopub.status.idle": "2025-04-20T02:21:35.150614Z",
     "shell.execute_reply": "2025-04-20T02:21:35.149375Z"
    },
    "papermill": {
     "duration": 0.030166,
     "end_time": "2025-04-20T02:21:35.152929",
     "exception": false,
     "start_time": "2025-04-20T02:21:35.122763",
     "status": "completed"
    },
    "tags": []
   },
   "outputs": [
    {
     "name": "stdout",
     "output_type": "stream",
     "text": [
      "\n",
      "Titles extracted and mapped (first 5 rows):\n",
      "                                                Name  Title\n",
      "0                            Braund, Mr. Owen Harris      1\n",
      "1  Cumings, Mrs. John Bradley (Florence Briggs Th...      3\n",
      "2                             Heikkinen, Miss. Laina      2\n",
      "3       Futrelle, Mrs. Jacques Heath (Lily May Peel)      3\n",
      "4                           Allen, Mr. William Henry      1\n"
     ]
    }
   ],
   "source": [
    "# Step 3: Extract Titles from Names\n",
    "\n",
    "def extract_title(name):\n",
    "    title_search = re.search(r' ([A-Za-z]+)\\.', name)\n",
    "    if title_search:\n",
    "        return title_search.group(1)\n",
    "    return \"\"\n",
    "\n",
    "# Apply the function to extract titles\n",
    "train_df['Title'] = train_df['Name'].apply(extract_title)\n",
    "test_df['Title'] = test_df['Name'].apply(extract_title)\n",
    "\n",
    "# Replace uncommon titles with 'Rare' and standardize others\n",
    "for df in [train_df, test_df]:\n",
    "    df['Title'] = df['Title'].replace(['Lady', 'Countess','Capt', 'Col','Don', 'Dr', \n",
    "                                       'Major', 'Rev', 'Sir', 'Jonkheer', 'Dona'], 'Rare')\n",
    "    df['Title'] = df['Title'].replace('Mlle', 'Miss')\n",
    "    df['Title'] = df['Title'].replace('Ms', 'Miss')\n",
    "    df['Title'] = df['Title'].replace('Mme', 'Mrs')\n",
    "\n",
    "# Map titles to numeric values\n",
    "title_mapping = {\"Mr\": 1, \"Miss\": 2, \"Mrs\": 3, \"Master\": 4, \"Rare\": 5}\n",
    "train_df['Title'] = train_df['Title'].map(title_mapping)\n",
    "test_df['Title'] = test_df['Title'].map(title_mapping)\n",
    "\n",
    "# If any titles are missing after mapping, fill them with 0\n",
    "train_df['Title'] = train_df['Title'].fillna(0)\n",
    "test_df['Title'] = test_df['Title'].fillna(0)\n",
    "\n",
    "print(\"\\nTitles extracted and mapped (first 5 rows):\")\n",
    "print(train_df[['Name', 'Title']].head())\n",
    "\n",
    "\n",
    "\n",
    "\n"
   ]
  },
  {
   "cell_type": "code",
   "execution_count": 6,
   "id": "a05bfafa",
   "metadata": {
    "execution": {
     "iopub.execute_input": "2025-04-20T02:21:35.164669Z",
     "iopub.status.busy": "2025-04-20T02:21:35.164246Z",
     "iopub.status.idle": "2025-04-20T02:21:35.178453Z",
     "shell.execute_reply": "2025-04-20T02:21:35.177301Z"
    },
    "papermill": {
     "duration": 0.022197,
     "end_time": "2025-04-20T02:21:35.180167",
     "exception": false,
     "start_time": "2025-04-20T02:21:35.157970",
     "status": "completed"
    },
    "tags": []
   },
   "outputs": [
    {
     "name": "stdout",
     "output_type": "stream",
     "text": [
      "\n",
      "FamilySize and IsAlone (first 5 rows):\n",
      "   SibSp  Parch  FamilySize  IsAlone\n",
      "0      1      0           1        0\n",
      "1      1      0           1        0\n",
      "2      0      0           0        1\n",
      "3      1      0           1        0\n",
      "4      0      0           0        1\n"
     ]
    }
   ],
   "source": [
    "# Step 4: Create FamilySize and IsAlone Features\n",
    "\n",
    "# Create FamilySize feature: sum of SibSp and Parch\n",
    "train_df['FamilySize'] = train_df['SibSp'] + train_df['Parch']\n",
    "test_df['FamilySize'] = test_df['SibSp'] + test_df['Parch']\n",
    "\n",
    "# Create IsAlone feature: 1 if FamilySize is 0, else 0\n",
    "train_df['IsAlone'] = 0\n",
    "train_df.loc[train_df['FamilySize'] == 0, 'IsAlone'] = 1\n",
    "\n",
    "test_df['IsAlone'] = 0\n",
    "test_df.loc[test_df['FamilySize'] == 0, 'IsAlone'] = 1\n",
    "\n",
    "print(\"\\nFamilySize and IsAlone (first 5 rows):\")\n",
    "print(train_df[['SibSp', 'Parch', 'FamilySize', 'IsAlone']].head())\n",
    "\n"
   ]
  },
  {
   "cell_type": "code",
   "execution_count": 7,
   "id": "e9bbe5fd",
   "metadata": {
    "execution": {
     "iopub.execute_input": "2025-04-20T02:21:35.191992Z",
     "iopub.status.busy": "2025-04-20T02:21:35.191604Z",
     "iopub.status.idle": "2025-04-20T02:21:35.205393Z",
     "shell.execute_reply": "2025-04-20T02:21:35.204165Z"
    },
    "papermill": {
     "duration": 0.021761,
     "end_time": "2025-04-20T02:21:35.207215",
     "exception": false,
     "start_time": "2025-04-20T02:21:35.185454",
     "status": "completed"
    },
    "tags": []
   },
   "outputs": [
    {
     "name": "stdout",
     "output_type": "stream",
     "text": [
      "\n",
      "Converted categorical variables (first 5 rows):\n",
      "   Sex  Embarked\n",
      "0    1         2\n",
      "1    0         0\n",
      "2    0         2\n",
      "3    0         2\n",
      "4    1         2\n"
     ]
    }
   ],
   "source": [
    "# Step 5: Convert Categorical Variables\n",
    "\n",
    "# Convert 'Sex' to numeric: male = 1, female = 0\n",
    "for df in [train_df, test_df]:\n",
    "    df['Sex'] = df['Sex'].map({'male': 1, 'female': 0})\n",
    "    \n",
    "# Convert 'Embarked' to numeric: C = 0, Q = 1, S = 2\n",
    "for df in [train_df, test_df]:\n",
    "    df['Embarked'] = df['Embarked'].map({'C': 0, 'Q': 1, 'S': 2})\n",
    "\n",
    "print(\"\\nConverted categorical variables (first 5 rows):\")\n",
    "print(train_df[['Sex', 'Embarked']].head())\n"
   ]
  },
  {
   "cell_type": "code",
   "execution_count": 8,
   "id": "d4215b56",
   "metadata": {
    "execution": {
     "iopub.execute_input": "2025-04-20T02:21:35.219036Z",
     "iopub.status.busy": "2025-04-20T02:21:35.218685Z",
     "iopub.status.idle": "2025-04-20T02:21:35.244207Z",
     "shell.execute_reply": "2025-04-20T02:21:35.242929Z"
    },
    "papermill": {
     "duration": 0.033429,
     "end_time": "2025-04-20T02:21:35.245965",
     "exception": false,
     "start_time": "2025-04-20T02:21:35.212536",
     "status": "completed"
    },
    "tags": []
   },
   "outputs": [
    {
     "name": "stdout",
     "output_type": "stream",
     "text": [
      "Advanced Features Added (AgeBin and FareBin):\n",
      "    Age AgeBin     Fare  FareBin\n",
      "0  22.0      2   7.2500        0\n",
      "1  38.0      2  71.2833        3\n",
      "2  26.0      2   7.9250        1\n",
      "3  35.0      2  53.1000        3\n",
      "4  35.0      2   8.0500        1\n"
     ]
    }
   ],
   "source": [
    "# Advanced Feature Engineering - Binning Age and Fare\n",
    "\n",
    "for df in [train_df, test_df]:\n",
    "    # Create 'AgeBin' by binning Age into 4 categories:\n",
    "    # 0: Child (0-12), 1: Teen (12-20), 2: Adult (20-40), 3: Senior (40-120)\n",
    "    df['AgeBin'] = pd.cut(df['Age'], bins=[0, 12, 20, 40, 120], labels=[0, 1, 2, 3])\n",
    "    \n",
    "    # Create 'FareBin' by splitting Fare into 4 quartile-based categories\n",
    "    df['FareBin'] = pd.qcut(df['Fare'], 4, labels=False)\n",
    "\n",
    "# Display the new features for a quick check\n",
    "print(\"Advanced Features Added (AgeBin and FareBin):\")\n",
    "print(train_df[['Age', 'AgeBin', 'Fare', 'FareBin']].head())\n"
   ]
  },
  {
   "cell_type": "code",
   "execution_count": 9,
   "id": "78ef1053",
   "metadata": {
    "execution": {
     "iopub.execute_input": "2025-04-20T02:21:35.257844Z",
     "iopub.status.busy": "2025-04-20T02:21:35.257446Z",
     "iopub.status.idle": "2025-04-20T02:21:35.280743Z",
     "shell.execute_reply": "2025-04-20T02:21:35.279406Z"
    },
    "papermill": {
     "duration": 0.031229,
     "end_time": "2025-04-20T02:21:35.282595",
     "exception": false,
     "start_time": "2025-04-20T02:21:35.251366",
     "status": "completed"
    },
    "tags": []
   },
   "outputs": [
    {
     "name": "stdout",
     "output_type": "stream",
     "text": [
      "New features added (first 5 rows):\n",
      "             Ticket  TicketPrefix  FamilySize FamilyCategory     Fare  \\\n",
      "0         A/5 21171             1           1              1   7.2500   \n",
      "1          PC 17599             9           1              1  71.2833   \n",
      "2  STON/O2. 3101282            25           0              0   7.9250   \n",
      "3            113803            29           1              1  53.1000   \n",
      "4            373450            29           0              0   8.0500   \n",
      "\n",
      "   Fare_log  \n",
      "0  2.110213  \n",
      "1  4.280593  \n",
      "2  2.188856  \n",
      "3  3.990834  \n",
      "4  2.202765  \n"
     ]
    }
   ],
   "source": [
    "# Additional Feature Engineering\n",
    "\n",
    "# --- Ticket Prefix Extraction ---\n",
    "def extract_ticket_prefix(ticket):\n",
    "    # Split the ticket string by spaces and take the first part if there is a prefix\n",
    "    ticket_parts = ticket.split()\n",
    "    if len(ticket_parts) > 1:\n",
    "        # Remove dots or slashes from the prefix\n",
    "        return ticket_parts[0].replace('.', '').replace('/', '')\n",
    "    else:\n",
    "        return \"XXX\"  # Placeholder for tickets with no prefix\n",
    "\n",
    "# Apply the extraction to both datasets\n",
    "for df in [train_df, test_df]:\n",
    "    df['TicketPrefix'] = df['Ticket'].apply(extract_ticket_prefix)\n",
    "    \n",
    "# Encode the TicketPrefix feature using LabelEncoder\n",
    "from sklearn.preprocessing import LabelEncoder\n",
    "le_ticket = LabelEncoder()\n",
    "for df in [train_df, test_df]:\n",
    "    df['TicketPrefix'] = le_ticket.fit_transform(df['TicketPrefix'])\n",
    "\n",
    "# --- Family Category ---\n",
    "# Create a categorical feature based on FamilySize:\n",
    "# 0 = Alone, 1 = Small Family (1-4 members), 2 = Large Family (more than 4 members)\n",
    "for df in [train_df, test_df]:\n",
    "    df['FamilyCategory'] = pd.cut(df['FamilySize'], bins=[-1, 0, 4, 100], labels=[0, 1, 2])\n",
    "\n",
    "# --- Log Transformation for Fare ---\n",
    "# Apply a log transformation to Fare to reduce skewness\n",
    "for df in [train_df, test_df]:\n",
    "    df['Fare_log'] = np.log1p(df['Fare'])\n",
    "\n",
    "# (Optional) Display the new features for a quick check\n",
    "print(\"New features added (first 5 rows):\")\n",
    "print(train_df[['Ticket', 'TicketPrefix', 'FamilySize', 'FamilyCategory', 'Fare', 'Fare_log']].head())\n"
   ]
  },
  {
   "cell_type": "code",
   "execution_count": 10,
   "id": "0fea2392",
   "metadata": {
    "execution": {
     "iopub.execute_input": "2025-04-20T02:21:35.295025Z",
     "iopub.status.busy": "2025-04-20T02:21:35.294616Z",
     "iopub.status.idle": "2025-04-20T02:21:35.307871Z",
     "shell.execute_reply": "2025-04-20T02:21:35.306547Z"
    },
    "papermill": {
     "duration": 0.021373,
     "end_time": "2025-04-20T02:21:35.309548",
     "exception": false,
     "start_time": "2025-04-20T02:21:35.288175",
     "status": "completed"
    },
    "tags": []
   },
   "outputs": [
    {
     "name": "stdout",
     "output_type": "stream",
     "text": [
      "      Fare  FamilySize  FarePerPerson   Age  Pclass  Age*Pclass\n",
      "0   7.2500           1        3.62500  22.0       3        66.0\n",
      "1  71.2833           1       35.64165  38.0       1        38.0\n",
      "2   7.9250           0        7.92500  26.0       3        78.0\n",
      "3  53.1000           1       26.55000  35.0       1        35.0\n",
      "4   8.0500           0        8.05000  35.0       3       105.0\n"
     ]
    }
   ],
   "source": [
    "#Additional Feature Engineering – FarePerPerson and Age*Pclass\n",
    "\n",
    "for df in [train_df, test_df]:\n",
    "    # Fare per person: fare divided by (family size + 1)\n",
    "    df['FarePerPerson'] = df['Fare'] / (df['FamilySize'] + 1)\n",
    "    # Interaction feature: Age multiplied by Pclass\n",
    "    df['Age*Pclass'] = df['Age'] * df['Pclass']\n",
    "\n",
    "# Quick check of the new features\n",
    "print(train_df[['Fare', 'FamilySize', 'FarePerPerson', 'Age', 'Pclass', 'Age*Pclass']].head())"
   ]
  },
  {
   "cell_type": "code",
   "execution_count": 11,
   "id": "fc0c57f4",
   "metadata": {
    "execution": {
     "iopub.execute_input": "2025-04-20T02:21:35.321227Z",
     "iopub.status.busy": "2025-04-20T02:21:35.320849Z",
     "iopub.status.idle": "2025-04-20T02:21:35.327377Z",
     "shell.execute_reply": "2025-04-20T02:21:35.326422Z"
    },
    "papermill": {
     "duration": 0.014257,
     "end_time": "2025-04-20T02:21:35.329127",
     "exception": false,
     "start_time": "2025-04-20T02:21:35.314870",
     "status": "completed"
    },
    "tags": []
   },
   "outputs": [],
   "source": [
    "#Convert categorical dtypes to numeric codes\n",
    "for col in ['AgeBin', 'FamilyCategory']:\n",
    "    train_df[col] = train_df[col].astype(int)\n",
    "    test_df[col]  = test_df[col].astype(int)"
   ]
  },
  {
   "cell_type": "code",
   "execution_count": 12,
   "id": "1b444d77",
   "metadata": {
    "execution": {
     "iopub.execute_input": "2025-04-20T02:21:35.341406Z",
     "iopub.status.busy": "2025-04-20T02:21:35.341011Z",
     "iopub.status.idle": "2025-04-20T02:21:35.350440Z",
     "shell.execute_reply": "2025-04-20T02:21:35.349067Z"
    },
    "papermill": {
     "duration": 0.017376,
     "end_time": "2025-04-20T02:21:35.352239",
     "exception": false,
     "start_time": "2025-04-20T02:21:35.334863",
     "status": "completed"
    },
    "tags": []
   },
   "outputs": [
    {
     "name": "stdout",
     "output_type": "stream",
     "text": [
      "\n",
      "Training data columns after dropping unnecessary ones:\n",
      "Index(['Survived', 'Pclass', 'Sex', 'Age', 'SibSp', 'Parch', 'Fare',\n",
      "       'Embarked', 'Deck', 'Title', 'FamilySize', 'IsAlone', 'AgeBin',\n",
      "       'FareBin', 'TicketPrefix', 'FamilyCategory', 'Fare_log',\n",
      "       'FarePerPerson', 'Age*Pclass'],\n",
      "      dtype='object')\n",
      "\n",
      "Test data columns after dropping unnecessary ones:\n",
      "Index(['PassengerId', 'Pclass', 'Sex', 'Age', 'SibSp', 'Parch', 'Fare',\n",
      "       'Embarked', 'Deck', 'Title', 'FamilySize', 'IsAlone', 'AgeBin',\n",
      "       'FareBin', 'TicketPrefix', 'FamilyCategory', 'Fare_log',\n",
      "       'FarePerPerson', 'Age*Pclass'],\n",
      "      dtype='object')\n"
     ]
    }
   ],
   "source": [
    "# Step 6: Drop Unnecessary Columns\n",
    "\n",
    "# For training data, drop 'PassengerId', 'Name', 'Ticket'\n",
    "train_df.drop(columns=['PassengerId', 'Name', 'Ticket'], inplace=True, errors='ignore')\n",
    "\n",
    "# For test data, drop 'Name', 'Ticket'\n",
    "# (Keep PassengerId separately in test_ids for final submission)\n",
    "test_df.drop(columns=['Name', 'Ticket'], inplace=True, errors='ignore')\n",
    "\n",
    "print(\"\\nTraining data columns after dropping unnecessary ones:\")\n",
    "print(train_df.columns)\n",
    "print(\"\\nTest data columns after dropping unnecessary ones:\")\n",
    "print(test_df.columns)\n"
   ]
  },
  {
   "cell_type": "code",
   "execution_count": 13,
   "id": "fb427e76",
   "metadata": {
    "execution": {
     "iopub.execute_input": "2025-04-20T02:21:35.364403Z",
     "iopub.status.busy": "2025-04-20T02:21:35.363968Z",
     "iopub.status.idle": "2025-04-20T02:21:35.373885Z",
     "shell.execute_reply": "2025-04-20T02:21:35.372778Z"
    },
    "papermill": {
     "duration": 0.017963,
     "end_time": "2025-04-20T02:21:35.375658",
     "exception": false,
     "start_time": "2025-04-20T02:21:35.357695",
     "status": "completed"
    },
    "tags": []
   },
   "outputs": [
    {
     "name": "stdout",
     "output_type": "stream",
     "text": [
      "Shape of training features (X): (891, 18)\n",
      "Shape of target (y): (891,)\n",
      "Shape of test features (X_test): (418, 19)\n"
     ]
    }
   ],
   "source": [
    "# Step 7: Prepare Data for Modeling\n",
    "\n",
    "# For training, separate features (X) and target (y)\n",
    "X = train_df.drop('Survived', axis=1)\n",
    "y = train_df['Survived']\n",
    "\n",
    "# For testing, X_test is the entire test_df (PassengerId is saved separately)\n",
    "X_test = test_df.copy()\n",
    "\n",
    "print(\"Shape of training features (X):\", X.shape)\n",
    "print(\"Shape of target (y):\", y.shape)\n",
    "print(\"Shape of test features (X_test):\", X_test.shape)\n"
   ]
  },
  {
   "cell_type": "code",
   "execution_count": 14,
   "id": "efd5baee",
   "metadata": {
    "execution": {
     "iopub.execute_input": "2025-04-20T02:21:35.388217Z",
     "iopub.status.busy": "2025-04-20T02:21:35.387776Z",
     "iopub.status.idle": "2025-04-20T02:21:35.398462Z",
     "shell.execute_reply": "2025-04-20T02:21:35.397320Z"
    },
    "papermill": {
     "duration": 0.019125,
     "end_time": "2025-04-20T02:21:35.400393",
     "exception": false,
     "start_time": "2025-04-20T02:21:35.381268",
     "status": "completed"
    },
    "tags": []
   },
   "outputs": [
    {
     "name": "stdout",
     "output_type": "stream",
     "text": [
      "X_train shape: (712, 18)\n",
      "X_val shape: (179, 18)\n"
     ]
    }
   ],
   "source": [
    "# Step 8: Split the Data into Training and Validation Sets\n",
    "from sklearn.model_selection import train_test_split\n",
    "\n",
    "# Split data: 80% training, 20% validation\n",
    "X_train, X_val, y_train, y_val = train_test_split(X, y, test_size=0.2, random_state=42)\n",
    "\n",
    "print(\"X_train shape:\", X_train.shape)\n",
    "print(\"X_val shape:\", X_val.shape)\n",
    "\n"
   ]
  },
  {
   "cell_type": "code",
   "execution_count": 15,
   "id": "46285259",
   "metadata": {
    "execution": {
     "iopub.execute_input": "2025-04-20T02:21:35.412712Z",
     "iopub.status.busy": "2025-04-20T02:21:35.412327Z",
     "iopub.status.idle": "2025-04-20T02:21:37.081718Z",
     "shell.execute_reply": "2025-04-20T02:21:37.080712Z"
    },
    "papermill": {
     "duration": 1.677271,
     "end_time": "2025-04-20T02:21:37.083399",
     "exception": false,
     "start_time": "2025-04-20T02:21:35.406128",
     "status": "completed"
    },
    "tags": []
   },
   "outputs": [
    {
     "name": "stdout",
     "output_type": "stream",
     "text": [
      "0:\tlearn: 0.6579211\ttest: 0.6593344\tbest: 0.6593344 (0)\ttotal: 62.6ms\tremaining: 31.2s\n",
      "100:\tlearn: 0.3088554\ttest: 0.3956429\tbest: 0.3936849 (93)\ttotal: 431ms\tremaining: 1.7s\n",
      "200:\tlearn: 0.2553200\ttest: 0.3856283\tbest: 0.3848518 (196)\ttotal: 793ms\tremaining: 1.18s\n",
      "Stopped by overfitting detector  (30 iterations wait)\n",
      "\n",
      "bestTest = 0.3824680663\n",
      "bestIteration = 227\n",
      "\n",
      "Shrink model to first 228 iterations.\n"
     ]
    },
    {
     "data": {
      "text/plain": [
       "<catboost.core.CatBoostClassifier at 0x7acfe34e2b00>"
      ]
     },
     "execution_count": 15,
     "metadata": {},
     "output_type": "execute_result"
    }
   ],
   "source": [
    "# Step 9: Train CatBoostClassifier\n",
    "from catboost import CatBoostClassifier\n",
    "\n",
    "# List your categorical columns\n",
    "cat_cols = ['Sex', 'Embarked', 'Title', 'TicketPrefix', 'FamilyCategory', 'Deck']\n",
    "\n",
    "cb = CatBoostClassifier(\n",
    "    iterations=500,\n",
    "    learning_rate=0.05,\n",
    "    depth=6,\n",
    "    random_seed=42,\n",
    "    early_stopping_rounds=30,\n",
    "    verbose=100\n",
    ")\n",
    "\n",
    "# Train, telling CatBoost which columns are categorical\n",
    "cb.fit(\n",
    "    X_train, y_train,\n",
    "    cat_features=cat_cols,\n",
    "    eval_set=(X_val, y_val)\n",
    ")\n",
    "\n",
    "\n"
   ]
  },
  {
   "cell_type": "code",
   "execution_count": 16,
   "id": "ecada1b0",
   "metadata": {
    "execution": {
     "iopub.execute_input": "2025-04-20T02:21:37.096291Z",
     "iopub.status.busy": "2025-04-20T02:21:37.095902Z",
     "iopub.status.idle": "2025-04-20T02:21:37.108632Z",
     "shell.execute_reply": "2025-04-20T02:21:37.107515Z"
    },
    "papermill": {
     "duration": 0.021234,
     "end_time": "2025-04-20T02:21:37.110498",
     "exception": false,
     "start_time": "2025-04-20T02:21:37.089264",
     "status": "completed"
    },
    "tags": []
   },
   "outputs": [
    {
     "name": "stdout",
     "output_type": "stream",
     "text": [
      "CatBoost Validation Accuracy: 0.8491620111731844\n",
      "CatBoost Confusion Matrix:\n",
      " [[93 12]\n",
      " [15 59]]\n"
     ]
    }
   ],
   "source": [
    "# Step 10: Evaluate CatBoost\n",
    "val_preds = cb.predict(X_val)\n",
    "from sklearn.metrics import accuracy_score, confusion_matrix\n",
    "\n",
    "print(\"CatBoost Validation Accuracy:\", accuracy_score(y_val, val_preds))\n",
    "print(\"CatBoost Confusion Matrix:\\n\", confusion_matrix(y_val, val_preds))\n",
    "\n",
    "\n",
    "\n",
    "\n",
    "\n"
   ]
  },
  {
   "cell_type": "code",
   "execution_count": 17,
   "id": "4100844e",
   "metadata": {
    "execution": {
     "iopub.execute_input": "2025-04-20T02:21:37.123605Z",
     "iopub.status.busy": "2025-04-20T02:21:37.123271Z",
     "iopub.status.idle": "2025-04-20T02:21:37.233769Z",
     "shell.execute_reply": "2025-04-20T02:21:37.232428Z"
    },
    "papermill": {
     "duration": 0.11909,
     "end_time": "2025-04-20T02:21:37.235557",
     "exception": false,
     "start_time": "2025-04-20T02:21:37.116467",
     "status": "completed"
    },
    "tags": []
   },
   "outputs": [
    {
     "name": "stdout",
     "output_type": "stream",
     "text": [
      "Created submission_catboost.csv\n"
     ]
    }
   ],
   "source": [
    "# Step 11: Predict & Submit with CatBoost\n",
    "X_test = test_df.drop(columns=['PassengerId'], errors='ignore')\n",
    "test_preds = cb.predict(X_test)\n",
    "\n",
    "submission = pd.DataFrame({\n",
    "    'PassengerId': test_ids,\n",
    "    'Survived': test_preds\n",
    "})\n",
    "submission.to_csv('submission_catboost.csv', index=False)\n",
    "print(\"Created submission_catboost.csv\")\n",
    "\n",
    "\n",
    "\n",
    "\n",
    "\n"
   ]
  },
  {
   "cell_type": "code",
   "execution_count": 18,
   "id": "6942853e",
   "metadata": {
    "execution": {
     "iopub.execute_input": "2025-04-20T02:21:37.249421Z",
     "iopub.status.busy": "2025-04-20T02:21:37.249079Z",
     "iopub.status.idle": "2025-04-20T02:21:37.675688Z",
     "shell.execute_reply": "2025-04-20T02:21:37.674648Z"
    },
    "papermill": {
     "duration": 0.43571,
     "end_time": "2025-04-20T02:21:37.677590",
     "exception": false,
     "start_time": "2025-04-20T02:21:37.241880",
     "status": "completed"
    },
    "tags": []
   },
   "outputs": [
    {
     "name": "stdout",
     "output_type": "stream",
     "text": [
      "Feature Importances:\n",
      "Title             20.969492\n",
      "Deck               9.503933\n",
      "Sex                8.296094\n",
      "Age*Pclass         7.330044\n",
      "Embarked           6.609846\n",
      "Pclass             6.586392\n",
      "FamilyCategory     6.522944\n",
      "FarePerPerson      5.903809\n",
      "TicketPrefix       5.847138\n",
      "Age                5.124655\n",
      "Fare               4.358010\n",
      "FamilySize         3.852179\n",
      "Fare_log           2.891930\n",
      "FareBin            1.853972\n",
      "AgeBin             1.646833\n",
      "SibSp              1.340923\n",
      "Parch              1.147585\n",
      "IsAlone            0.214223\n",
      "dtype: float64\n"
     ]
    },
    {
     "data": {
      "image/png": "[encoded data removed]",
      "text/plain": [
       "<Figure size 640x480 with 1 Axes>"
      ]
     },
     "metadata": {},
     "output_type": "display_data"
    }
   ],
   "source": [
    "# Step 12: Visualize Feature Importances\n",
    "\n",
    "import matplotlib.pyplot as plt\n",
    "import pandas as pd\n",
    "\n",
    "# Get feature importances from the CatBoost model\n",
    "importances = cb.get_feature_importance()\n",
    "feature_names = X.columns\n",
    "\n",
    "# Create a pandas series for feature importances\n",
    "feat_importances = pd.Series(importances, index=feature_names).sort_values(ascending=False)\n",
    "\n",
    "# Print feature importances\n",
    "print(\"Feature Importances:\")\n",
    "print(feat_importances)\n",
    "\n",
    "# Plot the feature importances\n",
    "feat_importances.plot(kind='bar')\n",
    "plt.title('Feature Importances')\n",
    "plt.show()\n"
   ]
  },
  {
   "cell_type": "code",
   "execution_count": null,
   "id": "bd5ad5f8",
   "metadata": {
    "papermill": {
     "duration": 0.006468,
     "end_time": "2025-04-20T02:21:37.690943",
     "exception": false,
     "start_time": "2025-04-20T02:21:37.684475",
     "status": "completed"
    },
    "tags": []
   },
   "outputs": [],
   "source": []
  }
 ],
 "metadata": {
  "kaggle": {
   "accelerator": "none",
   "dataSources": [
    {
     "databundleVersionId": 26502,
     "sourceId": 3136,
     "sourceType": "competition"
    }
   ],
   "dockerImageVersionId": 30918,
   "isGpuEnabled": false,
   "isInternetEnabled": false,
   "language": "python",
   "sourceType": "notebook"
  },
  "kernelspec": {
   "display_name": "Python 3",
   "language": "python",
   "name": "python3"
  },
  "language_info": {
   "codemirror_mode": {
    "name": "ipython",
    "version": 3
   },
   "file_extension": ".py",
   "mimetype": "text/x-python",
   "name": "python",
   "nbconvert_exporter": "python",
   "pygments_lexer": "ipython3",
   "version": "3.10.12"
  },
  "papermill": {
   "default_parameters": {},
   "duration": 10.430752,
   "end_time": "2025-04-20T02:21:38.518925",
   "environment_variables": {},
   "exception": null,
   "input_path": "__notebook__.ipynb",
   "output_path": "__notebook__.ipynb",
   "parameters": {},
   "start_time": "2025-04-20T02:21:28.088173",
   "version": "2.6.0"
  }
 },
 "nbformat": 4,
 "nbformat_minor": 5
}
